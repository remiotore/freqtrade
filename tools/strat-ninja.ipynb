{
 "cells": [
  {
   "cell_type": "code",
   "execution_count": null,
   "metadata": {},
   "outputs": [],
   "source": [
    "#!pip install pandas requests beautifulsoup4"
   ]
  },
  {
   "cell_type": "markdown",
   "metadata": {},
   "source": [
    "### Import modules"
   ]
  },
  {
   "cell_type": "code",
   "execution_count": null,
   "metadata": {},
   "outputs": [],
   "source": [
    "import re\n",
    "import os\n",
    "import json\n",
    "import shutil\n",
    "import pandas\n",
    "import requests\n",
    "from bs4 import BeautifulSoup\n",
    "from concurrent.futures import ThreadPoolExecutor"
   ]
  },
  {
   "cell_type": "code",
   "execution_count": null,
   "metadata": {},
   "outputs": [],
   "source": [
    "strategies_csv = \"strategies.csv\"\n",
    "if os.path.exists(strategies_csv):\n",
    "    os.remove(strategies_csv)\n",
    "\n",
    "strategies_path = \"strategies\"\n",
    "if os.path.exists(strategies_path):\n",
    "    shutil.rmtree(strategies_path)"
   ]
  },
  {
   "cell_type": "markdown",
   "metadata": {},
   "source": [
    "### List public strategies"
   ]
  },
  {
   "cell_type": "code",
   "execution_count": null,
   "metadata": {},
   "outputs": [],
   "source": [
    "resp = requests.request('GET', 'https://strat.ninja/strats.php')\n",
    "strategies = []\n",
    "\n",
    "if resp.status_code == 200:\n",
    "    filtered_text = \"\\n\".join([ line for line in resp.text.splitlines() if not re.search(r'private', line, re.IGNORECASE) ])\n",
    "    strats = re.findall(r'href=\"overview.php\\?strategy=(.*?)\"', filtered_text)\n",
    "\n",
    "    for strat in strats:\n",
    "        if \"action=open\" not in strat:\n",
    "            strategies.append(strat)"
   ]
  },
  {
   "cell_type": "markdown",
   "metadata": {},
   "source": [
    "### Process function"
   ]
  },
  {
   "cell_type": "code",
   "execution_count": null,
   "metadata": {},
   "outputs": [],
   "source": [
    "def process_strategy(strategy):\n",
    "    resp = requests.request(\"GET\", f\"https://strat.ninja/overview.php?strategy={strategy}\")\n",
    "\n",
    "    # Get strategy tags\n",
    "    soup = BeautifulSoup(resp.text, features=\"html.parser\")\n",
    "    tags = soup.find(\"div\", class_=\"tags\")\n",
    "    metadata = {\n",
    "        \"strategy\" : strategy,\n",
    "        \"mode\" : None,\n",
    "        \"timeframe\" : None,\n",
    "        \"failed\" : False,\n",
    "        \"bias\" : None,\n",
    "        \"stalled\" : None,\n",
    "        \"leverage\" : None,\n",
    "        \"profit\" : 0,\n",
    "        \"can_short\" : False,\n",
    "    }\n",
    "\n",
    "    # Clasify tags\n",
    "    for tag in tags.find_all(\"a\"):\n",
    "        if not tag.find(\"img\") and not tag.get(\"onclick\"):\n",
    "            text = tag.get_text()\n",
    "\n",
    "            mode = [ \"Spot\", \"Futures\"]\n",
    "            for element in mode:\n",
    "                if element == text:\n",
    "                    metadata[\"mode\"] = text\n",
    "\n",
    "            timeframes = [ \"1m\", \"3m\", \"5m\", \"10m\", \"15m\", \"30m\", \"1h\", \"2h\", \"4h\", \"6h\", \"12h\", \"1d\", \"1w\", ]\n",
    "            for element in timeframes:\n",
    "                if element == text:\n",
    "                    metadata[\"timeframe\"] = text\n",
    "\n",
    "            failed = [ \"Failed\" ]\n",
    "            for element in failed:\n",
    "                if element == text:\n",
    "                    metadata[\"failed\"] = True\n",
    "\n",
    "            bias = [\"Biased (Lookahead Analysis)\", \"Bias unchecked\", \"Unbiased\"]\n",
    "            for element in bias:\n",
    "                if element == text:\n",
    "                    metadata[\"bias\"] = text\n",
    "\n",
    "            stalled = [ \"Stalled - 90 Percent Negative\", \"Stalled - Biased\", \"Stalled - Negative\", ]\n",
    "            for element in stalled:\n",
    "                if element == text:\n",
    "                    metadata[\"stalled\"] = text\n",
    "\n",
    "            leverage = \"X\"\n",
    "            if text.endswith(leverage):\n",
    "                metadata[\"leverage\"] = text\n",
    "    \n",
    "    profit = 0\n",
    "    cum_prof = []\n",
    "    \n",
    "    # If strategy worked, then it must include a table of results. \n",
    "    # Sum profits.\n",
    "\n",
    "    if 'Failed' not in resp.text:\n",
    "        soup = BeautifulSoup(resp.text, features=\"html.parser\")\n",
    "\n",
    "        table = soup.find('table', id='example')\n",
    "        if not table: return\n",
    "\n",
    "        tbody = table.find('tbody')\n",
    "        if not tbody: return\n",
    "\n",
    "        rows = tbody.find_all('tr')\n",
    "        for row in rows:\n",
    "            columns = row.find_all('th')\n",
    "            cum_prof.append(float(columns[5].text)) # Tot. Profit %\n",
    "\n",
    "        if cum_prof:\n",
    "            profit = sum(cum_prof) / len(cum_prof)\n",
    "\n",
    "    metadata[\"profit\"] = profit\n",
    "\n",
    "    strategy_mirror = f'https://strat.ninja/mirror/{strategy}.py'\n",
    "    resp = requests.request('GET', strategy_mirror)\n",
    "    if resp.status_code == 200 and profit > 0:\n",
    "        # Can Short?\n",
    "        can_short = re.search(r'can_short\\s*=\\s*True', resp.text)\n",
    "        if can_short:\n",
    "            metadata[\"can_short\"] = True\n",
    "\n",
    "        # Strategy's indicators\n",
    "        pattern = r'dataframe\\[\"(.*?)\"\\]|dataframe\\[\\'(.*?)\\'\\]'\n",
    "        matches = re.findall(pattern, resp.text)\n",
    "        values = {m[0] or m[1] for m in matches}\n",
    "        metadata[\"indicators\"] = list(set(values))\n",
    "\n",
    "        # Save code\n",
    "        strategy_file = f\"{strategies_path}/{strategy}.py\"\n",
    "        with open(strategy_file, \"a+\") as file:\n",
    "            file.write(resp.text)\n",
    "\n",
    "    # Dump to a file the results\n",
    "    with open('strategies.csv', 'a+') as f:\n",
    "        f.write(f'{ json.dumps(metadata[\"strategy\"]) };{ json.dumps(metadata[\"mode\"]) };{ json.dumps(metadata[\"timeframe\"]) };{ json.dumps(metadata[\"failed\"]) };{ json.dumps(metadata[\"bias\"]) };{ json.dumps(metadata[\"stalled\"]) };{ json.dumps(metadata[\"leverage\"]) };{ json.dumps(metadata[\"profit\"]) };{ json.dumps(metadata[\"can_short\"]) };{ json.dumps(metadata[\"indicators\"]) };\\n')\n",
    "\n",
    "    print(metadata)"
   ]
  },
  {
   "cell_type": "markdown",
   "metadata": {},
   "source": [
    "### Process strategies in parallel"
   ]
  },
  {
   "cell_type": "code",
   "execution_count": null,
   "metadata": {},
   "outputs": [],
   "source": [
    "with ThreadPoolExecutor(max_workers=10) as executor:\n",
    "    executor.map(process_strategy, strategies)"
   ]
  },
  {
   "cell_type": "markdown",
   "metadata": {},
   "source": [
    "### Data Loading"
   ]
  },
  {
   "cell_type": "code",
   "execution_count": null,
   "metadata": {},
   "outputs": [],
   "source": [
    "separator = \";\"\n",
    "filename  = \"strategies.csv\"\n",
    "columns   = [ \"strategy\", \"mode\", \"timeframe\", \"failed\", \"bias\", \"stalled\", \"leverage\", \"profit\", \"can_short\", \"indicators\" ]\n",
    "\n",
    "pandas.set_option('display.max_rows', 100)\n",
    "\n",
    "df = pandas.read_csv(filename, sep=separator, names=columns)"
   ]
  },
  {
   "cell_type": "markdown",
   "metadata": {},
   "source": [
    "### Data cleaning"
   ]
  },
  {
   "cell_type": "code",
   "execution_count": null,
   "metadata": {},
   "outputs": [],
   "source": [
    "df = df[df[\"failed\"] == False]"
   ]
  },
  {
   "cell_type": "markdown",
   "metadata": {},
   "source": [
    "### Spot"
   ]
  },
  {
   "cell_type": "code",
   "execution_count": null,
   "metadata": {},
   "outputs": [],
   "source": [
    "spots = df[df[\"mode\"] == \"Spot\"]\n",
    "spots = spots[spots[\"bias\"] == \"Unbiased\"]\n",
    "spots = spots[[\"strategy\", \"profit\", \"timeframe\", \"bias\", \"stalled\", \"can_short\"]]\n",
    "spots.sort_values(\"profit\", ascending=False).head(25)"
   ]
  },
  {
   "cell_type": "markdown",
   "metadata": {},
   "source": [
    "### Futures"
   ]
  },
  {
   "cell_type": "code",
   "execution_count": null,
   "metadata": {},
   "outputs": [],
   "source": [
    "futures = df[df[\"mode\"] == \"Futures\"]\n",
    "futures = futures[futures[\"bias\"] == \"Unbiased\"]\n",
    "futures = futures[[\"strategy\", \"profit\", \"timeframe\", \"leverage\", \"bias\", \"stalled\", \"can_short\"]]\n",
    "futures.sort_values(\"profit\", ascending=False).head(25)"
   ]
  }
 ],
 "metadata": {
  "kernelspec": {
   "display_name": ".venv",
   "language": "python",
   "name": "python3"
  },
  "language_info": {
   "codemirror_mode": {
    "name": "ipython",
    "version": 3
   },
   "file_extension": ".py",
   "mimetype": "text/x-python",
   "name": "python",
   "nbconvert_exporter": "python",
   "pygments_lexer": "ipython3",
   "version": "3.12.3"
  }
 },
 "nbformat": 4,
 "nbformat_minor": 2
}
